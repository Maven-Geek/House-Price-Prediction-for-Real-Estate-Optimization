{
 "cells": [
  {
   "cell_type": "code",
   "execution_count": 11,
   "id": "e8bdb4aa-eb30-4716-9bbc-344f595b6a22",
   "metadata": {},
   "outputs": [],
   "source": [
    "from scipy.stats import binom\n",
    "from scipy.stats import norm\n",
    "from scipy.stats import uniform\n",
    "from scipy.stats import poisson\n",
    "import matplotlib.pyplot as plt\n",
    "import seaborn as sns"
   ]
  },
  {
   "cell_type": "code",
   "execution_count": 3,
   "id": "5178e9a5-9b60-45c2-9bc3-3ac912d2bd09",
   "metadata": {},
   "outputs": [
    {
     "data": {
      "text/plain": [
       "0.9984"
      ]
     },
     "execution_count": 3,
     "metadata": {},
     "output_type": "execute_result"
    }
   ],
   "source": [
    "1 - binom.pmf(0,4,0.8)"
   ]
  },
  {
   "cell_type": "code",
   "execution_count": 6,
   "id": "05014a8c-747f-4a37-8889-3ee8c7f35979",
   "metadata": {},
   "outputs": [
    {
     "data": {
      "text/plain": [
       "array([3, 6, 3, 6, 4, 4, 5, 4, 3, 3, 2, 5], dtype=int64)"
      ]
     },
     "execution_count": 6,
     "metadata": {},
     "output_type": "execute_result"
    }
   ],
   "source": [
    "binom.rvs(n=10,p=0.4,size=12, random_state=5)"
   ]
  },
  {
   "cell_type": "code",
   "execution_count": 7,
   "id": "bdbe9eb8-cc83-4a9a-b255-d80b3a71b13d",
   "metadata": {},
   "outputs": [
    {
     "data": {
      "text/plain": [
       "0.19638061523437514"
      ]
     },
     "execution_count": 7,
     "metadata": {},
     "output_type": "execute_result"
    }
   ],
   "source": [
    "binom.pmf(k=8, n=15, p=0.5)"
   ]
  },
  {
   "cell_type": "code",
   "execution_count": 13,
   "id": "56bcc043-8865-4588-9905-e5116e2ed7a4",
   "metadata": {},
   "outputs": [
    {
     "data": {
      "text/plain": [
       "1.1352607144022017e-08"
      ]
     },
     "execution_count": 13,
     "metadata": {},
     "output_type": "execute_result"
    }
   ],
   "source": [
    "binom.pmf(50, n=100, p=0.24)"
   ]
  },
  {
   "cell_type": "code",
   "execution_count": 14,
   "id": "53688674-fc4e-424a-9671-f742cefd0dc0",
   "metadata": {},
   "outputs": [],
   "source": [
    "import scipy.stats as stats"
   ]
  },
  {
   "cell_type": "code",
   "execution_count": 19,
   "id": "e56ac5ba-4292-493b-a63e-05781727e33a",
   "metadata": {},
   "outputs": [
    {
     "data": {
      "text/plain": [
       "11.979148550710939"
      ]
     },
     "execution_count": 19,
     "metadata": {},
     "output_type": "execute_result"
    }
   ],
   "source": [
    "import math\n",
    "math.sqrt(143.5)"
   ]
  },
  {
   "cell_type": "code",
   "execution_count": 16,
   "id": "ab664f09-413f-49a0-883d-45ec97ed775e",
   "metadata": {},
   "outputs": [
    {
     "data": {
      "text/plain": [
       "2.3333333333333335"
      ]
     },
     "execution_count": 16,
     "metadata": {},
     "output_type": "execute_result"
    }
   ],
   "source": [
    "statistics.variance([2,3,5])"
   ]
  },
  {
   "cell_type": "code",
   "execution_count": 20,
   "id": "0d1390d8-4a75-4187-999f-2eea5e574643",
   "metadata": {},
   "outputs": [],
   "source": [
    "my = [15,32,11,2]"
   ]
  },
  {
   "cell_type": "code",
   "execution_count": 24,
   "id": "87ee38fb-f8c0-4668-b11a-0c2b2c27ce11",
   "metadata": {},
   "outputs": [
    {
     "data": {
      "text/plain": [
       "[True, True, False, False]"
      ]
     },
     "execution_count": 24,
     "metadata": {},
     "output_type": "execute_result"
    }
   ],
   "source": [
    "j = [i >= 15 for i in my]\n",
    "j"
   ]
  },
  {
   "cell_type": "code",
   "execution_count": 28,
   "id": "e8f18a4e-ccd7-4f10-90b5-6680d51fd5dd",
   "metadata": {},
   "outputs": [
    {
     "data": {
      "text/plain": [
       "25"
      ]
     },
     "execution_count": 28,
     "metadata": {},
     "output_type": "execute_result"
    }
   ],
   "source": [
    "simple = lambda a: a*a\n",
    "simple(5)"
   ]
  },
  {
   "cell_type": "code",
   "execution_count": 29,
   "id": "1c1e0346-c633-4279-8612-e092dcc0ab4b",
   "metadata": {},
   "outputs": [],
   "source": [
    "l = 'barbeque'"
   ]
  },
  {
   "cell_type": "code",
   "execution_count": 32,
   "id": "2bbebcd5-6f00-470f-9691-5eacd2746753",
   "metadata": {},
   "outputs": [
    {
     "name": "stdout",
     "output_type": "stream",
     "text": [
      "a\n",
      "c\n"
     ]
    }
   ],
   "source": [
    "n = ['a', 'b', 'c']\n",
    "for i in n:\n",
    "    if i == 'b':\n",
    "        continue\n",
    "    print(i)"
   ]
  },
  {
   "cell_type": "code",
   "execution_count": 33,
   "id": "bac1f137-ace9-4545-8341-85002e7d0f71",
   "metadata": {},
   "outputs": [],
   "source": [
    "def nn(inp=0):\n",
    "    return 2*inp"
   ]
  },
  {
   "cell_type": "code",
   "execution_count": 34,
   "id": "308d19c6-5b45-4a8c-bfa2-1016267b7234",
   "metadata": {},
   "outputs": [
    {
     "data": {
      "text/plain": [
       "10"
      ]
     },
     "execution_count": 34,
     "metadata": {},
     "output_type": "execute_result"
    }
   ],
   "source": [
    "nn(5)"
   ]
  },
  {
   "cell_type": "code",
   "execution_count": 35,
   "id": "5ee2bc8c-30c0-4a9b-a7cd-ba6d3878c77e",
   "metadata": {},
   "outputs": [
    {
     "data": {
      "text/plain": [
       "0"
      ]
     },
     "execution_count": 35,
     "metadata": {},
     "output_type": "execute_result"
    }
   ],
   "source": [
    "nn()"
   ]
  },
  {
   "cell_type": "code",
   "execution_count": 40,
   "id": "83ca6500-ee8d-4f39-b655-5aa04e20eaa3",
   "metadata": {},
   "outputs": [],
   "source": [
    "import sklearn.naive_bayes as nb"
   ]
  },
  {
   "cell_type": "code",
   "execution_count": null,
   "id": "de9fb7f1-0d11-4010-924b-ac00e95ef2ad",
   "metadata": {},
   "outputs": [],
   "source": [
    "nb."
   ]
  }
 ],
 "metadata": {
  "kernelspec": {
   "display_name": "Python 3 (ipykernel)",
   "language": "python",
   "name": "python3"
  },
  "language_info": {
   "codemirror_mode": {
    "name": "ipython",
    "version": 3
   },
   "file_extension": ".py",
   "mimetype": "text/x-python",
   "name": "python",
   "nbconvert_exporter": "python",
   "pygments_lexer": "ipython3",
   "version": "3.11.7"
  }
 },
 "nbformat": 4,
 "nbformat_minor": 5
}

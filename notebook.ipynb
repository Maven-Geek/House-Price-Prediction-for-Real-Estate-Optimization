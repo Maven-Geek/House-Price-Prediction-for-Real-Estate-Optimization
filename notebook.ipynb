{
 "cells": [
  {
   "cell_type": "markdown",
   "id": "e33eda06-7d7d-445e-8cd0-60b4d4b13afb",
   "metadata": {},
   "source": [
    "# Practical Exam: House sales\n",
    "\n",
    "RealAgents is a real estate company that focuses on selling houses.\n",
    "\n",
    "RealAgents sells a variety of types of house in one metropolitan area.\n",
    "\n",
    "Some houses sell slowly and sometimes require lowering the price in order to find a buyer.\n",
    "\n",
    "In order to stay competitive, RealAgents would like to optimize the listing prices of the houses it is trying to sell.\n",
    "\n",
    "They want to do this by predicting the sale price of a house given its characteristics.\n",
    "\n",
    "If they can predict the sale price in advance, they can decrease the time to sale.\n",
    "\n",
    "\n",
    "## Data\n",
    "\n",
    "The dataset contains records of previous houses sold in the area.\n",
    "\n",
    "| Column Name | Criteria                                                |\n",
    "|-------------|---------------------------------------------------------|\n",
    "| house_id    | Nominal. </br> Unique identifier for houses. </br>Missing values not possible. |\n",
    "| city        | Nominal. </br>The city in which the house is located. One of 'Silvertown', 'Riverford', 'Teasdale' and 'Poppleton'. </br>Replace missing values with \"Unknown\". |\n",
    "| sale_price  | Discrete. </br>The sale price of the house in whole dollars. Values can be any positive number greater than or equal to zero.</br>Remove missing entries. |\n",
    "| sale_date   | Discrete. </br>The date of the last sale of the house. </br>Replace missing values with 2023-01-01. |\n",
    "| months_listed  | Continuous. </br>The number of months the house was listed on the market prior to its last sale, rounded to one decimal place. </br>Replace missing values with mean number of months listed, to one decimal place. |\n",
    "| bedrooms    | Discrete. </br>The number of bedrooms in the house. Any positive values greater than or equal to zero. </br>Replace missing values with the mean number of bedrooms, rounded to the nearest integer. |\n",
    "| house_type   | Ordinal. </br>One of \"Terraced\" (two shared walls), \"Semi-detached\" (one shared wall), or \"Detached\" (no shared walls). </br>Replace missing values with the most common house type. |\n",
    "| area      | Continuous. </br>The area of the house in square meters, rounded to one decimal place. </br>Replace missing values with the mean, to one decimal place. |\n"
   ]
  },
  {
   "cell_type": "markdown",
   "id": "ce597564-6bd3-4f54-830b-d5bac083c04a",
   "metadata": {},
   "source": [
    "# Task 1\n",
    "\n",
    "The team at RealAgents knows that the city that a property is located in makes a difference to the sale price. \n",
    "\n",
    "Unfortuntately they believe that this isn't always recorded in the data. \n",
    "\n",
    "Calculate the number of missing values of the `city`. \n",
    "\n",
    " - You should use the data in the file \"house_sales.csv\". \n",
    "\n",
    " - Your output should be an object `missing_city`, that contains the number of missing values in this column. "
   ]
  },
  {
   "cell_type": "code",
   "execution_count": 109,
   "id": "b2cb73bf-bb81-4664-b3eb-c35f6914a652",
   "metadata": {
    "executionCancelledAt": null,
    "executionTime": 50,
    "lastExecutedAt": 1688646575189,
    "lastScheduledRunId": null,
    "lastSuccessfullyExecutedCode": "# Use this cell to write your code for Task 1"
   },
   "outputs": [
    {
     "name": "stdout",
     "output_type": "stream",
     "text": [
      "house_id          0\n",
      "city              0\n",
      "sale_price        0\n",
      "sale_date         0\n",
      "months_listed    31\n",
      "bedrooms          0\n",
      "house_type        0\n",
      "area              0\n",
      "dtype: int64\n"
     ]
    },
    {
     "data": {
      "text/plain": [
       "73"
      ]
     },
     "execution_count": 109,
     "metadata": {},
     "output_type": "execute_result"
    }
   ],
   "source": [
    "# Use this cell to write your code for Task 1\n",
    "import pandas as pd\n",
    "df = pd.read_csv('house_sales.csv')\n",
    "print(df.isna().sum())\n",
    "missing_city = len(df[df.city == '--'])\n",
    "missing_city"
   ]
  },
  {
   "cell_type": "markdown",
   "id": "5045c039-b353-46ba-87b9-af63aaa4abf3",
   "metadata": {},
   "source": [
    "# Task 2 \n",
    "\n",
    "Before you fit any models, you will need to make sure the data is clean. \n",
    "\n",
    "The table below shows what the data should look like. \n",
    "\n",
    "Create a cleaned version of the dataframe. \n",
    "\n",
    " - You should start with the data in the file \"house_sales.csv\". \n",
    "\n",
    " - Your output should be a dataframe named `clean_data`. \n",
    "\n",
    " - All column names and values should match the table below.\n",
    "\n",
    "\n",
    "| Column Name | Criteria                                                |\n",
    "|-------------|---------------------------------------------------------|\n",
    "| house_id    | Nominal. </br> Unique identifier for houses. </br>Missing values not possible. |\n",
    "| city        | Nominal. </br>The city in which the house is located. One of 'Silvertown', 'Riverford', 'Teasdale' and 'Poppleton' </br>Replace missing values with \"Unknown\". |\n",
    "| sale_price  | Discrete. </br>The sale price of the house in whole dollars. Values can be any positive number greater than or equal to zero.</br>Remove missing entries. |\n",
    "| sale_date   | Discrete. </br>The date of the last sale of the house. </br>Replace missing values with 2023-01-01. |\n",
    "| months_listed  | Continuous. </br>The number of months the house was listed on the market prior to its last sale, rounded to one decimal place. </br>Replace missing values with mean number of months listed, to one decimal place. |\n",
    "| bedrooms    | Discrete. </br>The number of bedrooms in the house. Any positive values greater than or equal to zero. </br>Replace missing values with the mean number of bedrooms, rounded to the nearest integer. |\n",
    "| house_type   | Ordinal. </br>One of \"Terraced\", \"Semi-detached\", or \"Detached\". </br>Replace missing values with the most common house type. |\n",
    "| area      | Continuous. </br>The area of the house in square meters, rounded to one decimal place. </br>Replace missing values with the mean, to one decimal place. |"
   ]
  },
  {
   "cell_type": "code",
   "execution_count": 110,
   "id": "dc9c2344-a350-461c-b5db-40768b2165a5",
   "metadata": {
    "executionCancelledAt": null,
    "executionTime": 48,
    "lastExecutedAt": 1688635510846,
    "lastScheduledRunId": null,
    "lastSuccessfullyExecutedCode": "# Use this cell to write your code for Task 2",
    "scrolled": true
   },
   "outputs": [
    {
     "name": "stdout",
     "output_type": "stream",
     "text": [
      "house_id            int64\n",
      "city               object\n",
      "sale_price          int64\n",
      "sale_date          object\n",
      "months_listed     float64\n",
      "bedrooms            int64\n",
      "house_type       category\n",
      "area              float64\n",
      "dtype: object\n",
      "house_id         0\n",
      "city             0\n",
      "sale_price       0\n",
      "sale_date        0\n",
      "months_listed    0\n",
      "bedrooms         0\n",
      "house_type       0\n",
      "area             0\n",
      "dtype: int64\n",
      "   house_id        city  sale_price   sale_date  months_listed  bedrooms  \\\n",
      "0   1217792  Silvertown       55943  2021-09-12            5.4         2   \n",
      "1   1900913  Silvertown      384677  2021-01-17            6.3         5   \n",
      "2   1174927   Riverford      281707  2021-11-10            6.9         6   \n",
      "3   1773666  Silvertown      373251  2020-04-13            6.1         6   \n",
      "4   1258487  Silvertown      328885  2020-09-24            8.7         5   \n",
      "\n",
      "      house_type   area  \n",
      "0  Semi-detached  107.8  \n",
      "1       Detached  498.8  \n",
      "2       Detached  542.5  \n",
      "3       Detached  528.4  \n",
      "4       Detached  477.1  \n"
     ]
    },
    {
     "name": "stderr",
     "output_type": "stream",
     "text": [
      "C:\\Users\\Imago DEI\\AppData\\Local\\Temp\\ipykernel_18608\\4241344937.py:13: FutureWarning: A value is trying to be set on a copy of a DataFrame or Series through chained assignment using an inplace method.\n",
      "The behavior will change in pandas 3.0. This inplace method will never work because the intermediate object on which we are setting values always behaves as a copy.\n",
      "\n",
      "For example, when doing 'df[col].method(value, inplace=True)', try using 'df.method({col: value}, inplace=True)' or df[col] = df[col].method(value) instead, to perform the operation inplace on the original object.\n",
      "\n",
      "\n",
      "  df['sale_date'].fillna(\"2023-01-01\", inplace=True)\n",
      "C:\\Users\\Imago DEI\\AppData\\Local\\Temp\\ipykernel_18608\\4241344937.py:16: FutureWarning: A value is trying to be set on a copy of a DataFrame or Series through chained assignment using an inplace method.\n",
      "The behavior will change in pandas 3.0. This inplace method will never work because the intermediate object on which we are setting values always behaves as a copy.\n",
      "\n",
      "For example, when doing 'df[col].method(value, inplace=True)', try using 'df.method({col: value}, inplace=True)' or df[col] = df[col].method(value) instead, to perform the operation inplace on the original object.\n",
      "\n",
      "\n",
      "  df['bedrooms'].fillna(round(df['bedrooms'].mean()), inplace=True)\n"
     ]
    }
   ],
   "source": [
    "# Use this cell to write your code for Task 2\n",
    "import pandas as pd\n",
    "#print(df.dtypes)\n",
    "df = pd.read_csv('house_sales.csv')\n",
    "\n",
    "df.city = df.city.apply(lambda x: 'Unknown' if x == '--' else x)   # enable on final execution\n",
    "df.months_listed = df.months_listed.fillna(round(df['months_listed'].mean(),1))\n",
    "\n",
    "\n",
    "# missing entries 'sale_price'\n",
    "df.dropna(subset=['sale_price'], inplace=True)\n",
    "# missing 'sale_date'\n",
    "df['sale_date'].fillna(\"2023-01-01\", inplace=True)\n",
    "\n",
    "# missing 'bedrooms'\n",
    "df['bedrooms'].fillna(round(df['bedrooms'].mean()), inplace=True)\n",
    "\n",
    "category_order = ['Terraced', 'Semi-detached', 'Detached']\n",
    "type_map = {'Det.': 'Detached', 'Semi': \"Semi-detached\",'Terr.': \"Terraced\", }\n",
    "df['house_type'] = df['house_type'].replace(type_map)\n",
    "df['house_type'] = pd.Categorical(df['house_type'], categories=category_order, ordered=True)\n",
    "df['area'] = df['area'].str.replace(' sq.m.', '').astype(float)\n",
    "\n",
    "most_common_house_type = df['house_type'].mode()[0]\n",
    "df['house_type'] = df['house_type'].fillna(most_common_house_type)\n",
    "\n",
    "clean_data = df\n",
    "print(df.dtypes)\n",
    "print(df.isna().sum())\n",
    "print(clean_data.head(5))"
   ]
  },
  {
   "cell_type": "markdown",
   "id": "ff3c2889-66f3-4a6b-acac-2b12626e3244",
   "metadata": {},
   "source": [
    "# Task 3 \n",
    "\n",
    "The team at RealAgents have told you that they have always believed that the number of bedrooms is the biggest driver of house price. \n",
    "\n",
    "Producing a table showing the difference in the average sale price by number of bedrooms along with the variance to investigate this question for the team.\n",
    "\n",
    " - You should start with the data in the file 'house_sales.csv'.\n",
    "\n",
    " - Your output should be a data frame named `price_by_rooms`. \n",
    "\n",
    " - It should include the three columns `bedrooms`, `avg_price`, `var_price`. \n",
    "\n",
    " - Your answers should be rounded to 1 decimal place.   "
   ]
  },
  {
   "cell_type": "code",
   "execution_count": 111,
   "id": "ea512a1c-e512-4f2e-8d78-323e51d01407",
   "metadata": {
    "executionCancelledAt": null,
    "executionTime": 49,
    "lastExecutedAt": 1688635490394,
    "lastScheduledRunId": null,
    "lastSuccessfullyExecutedCode": "# Use this cell to write your code for Task 3"
   },
   "outputs": [
    {
     "name": "stdout",
     "output_type": "stream",
     "text": [
      "   bedrooms  avg_price     var_price\n",
      "0         2    67076.4   565289569.7\n",
      "1         3   154665.1  2378289076.9\n",
      "2         4   234704.6  1725211191.5\n",
      "3         5   301515.9  2484327529.0\n",
      "4         6   375741.3  3924432279.5\n"
     ]
    }
   ],
   "source": [
    "# Use this cell to write your code for Task 3\n",
    "import pandas as pd\n",
    "df = pd.read_csv('house_sales.csv')\n",
    "price_by_rooms = df.groupby('bedrooms')['sale_price'].agg(avg_price = 'mean', var_price = 'var').reset_index()\n",
    "price_by_rooms = price_by_rooms.round({'avg_price': 1, 'var_price': 1})\n",
    "# TO correct the 5.6528956e+08\n",
    "price_by_rooms['var_price'] = price_by_rooms['var_price'].apply(lambda x: f\"{x:.1f}\")\n",
    "print(price_by_rooms)"
   ]
  },
  {
   "cell_type": "markdown",
   "id": "ac7038d1-7a8f-4d97-aef1-36f3f1227374",
   "metadata": {},
   "source": [
    "# Task 4\n",
    "\n",
    "Fit a baseline model to predict the sale price of a house.\n",
    "\n",
    " 1. Fit your model using the data contained in “train.csv” </br></br>\n",
    "\n",
    " 2. Use “validation.csv” to predict new values based on your model. You must return a dataframe named `base_result`, that includes `house_id` and `price`. The price column must be your predicted values."
   ]
  },
  {
   "cell_type": "code",
   "execution_count": 112,
   "id": "96496c59-fdd4-4683-9884-551ad93b788f",
   "metadata": {},
   "outputs": [
    {
     "name": "stdout",
     "output_type": "stream",
     "text": [
      "     house_id          price\n",
      "0     1331375  121527.827316\n",
      "1     1630115  304386.625267\n",
      "2     1645745  384760.100656\n",
      "3     1336775  123976.268985\n",
      "4     1888274  271186.199353\n",
      "..        ...            ...\n",
      "295   1986255  351916.468218\n",
      "296   1896276  370138.966354\n",
      "297   1758223  259024.117384\n",
      "298   1752010  169120.160936\n",
      "299   1651404  391289.206911\n",
      "\n",
      "[300 rows x 2 columns]\n"
     ]
    }
   ],
   "source": [
    "# Use this cell to write your code for Task 4\n",
    "train_data = pd.read_csv('train.csv')\n",
    "val_data = pd.read_csv('validation.csv')\n",
    "from sklearn.linear_model import LinearRegression\n",
    "from sklearn.metrics import mean_squared_error as MSE\n",
    "from sklearn.model_selection import train_test_split\n",
    "\n",
    "lr = LinearRegression()\n",
    "hid = val_data['house_id']\n",
    "X_train = train_data.drop(columns = ['sale_price', 'house_id', 'sale_date'], axis=1)\n",
    "X_train = pd.get_dummies(X_train)\n",
    "y_train = train_data['sale_price']\n",
    "\n",
    "X_test = val_data.drop(columns = ['house_id', 'sale_date'], axis=1)\n",
    "X_test = pd.get_dummies(X_test)\n",
    "#X_test = pd.get_dummies(X_test)\n",
    "#y_test = val_data.drop('sale_price')\n",
    "\n",
    "lr.fit(X_train,y_train)\n",
    "y_pred = lr.predict(X_test)\n",
    "#rmse = MSE(y_test,y_pred) ** (0.5)\n",
    "\n",
    "base_result = pd.DataFrame({'house_id': hid, 'price': y_pred})\n",
    "\n",
    "print(base_result)"
   ]
  },
  {
   "cell_type": "markdown",
   "id": "7c674c01-d6de-488d-b2e0-bc3bbf87def6",
   "metadata": {},
   "source": [
    "# Task 5\n",
    "\n",
    "Fit a comparison model to predict the sale price of a house.\n",
    "\n",
    " 1. Fit your model using the data contained in “train.csv” </br></br>\n",
    "\n",
    " 2. Use “validation.csv” to predict new values based on your model. You must return a dataframe named `compare_result`, that includes `house_id` and `price`. The price column must be your predicted values."
   ]
  },
  {
   "cell_type": "code",
   "execution_count": 113,
   "id": "538ffb3d-4008-49b6-9876-7831e025f5a4",
   "metadata": {},
   "outputs": [
    {
     "name": "stdout",
     "output_type": "stream",
     "text": [
      "     house_id      price\n",
      "0     1331375   82705.90\n",
      "1     1630115  303046.74\n",
      "2     1645745  404783.60\n",
      "3     1336775  106940.77\n",
      "4     1888274  267839.37\n",
      "..        ...        ...\n",
      "295   1986255  363723.55\n",
      "296   1896276  393176.40\n",
      "297   1758223  264816.68\n",
      "298   1752010  178112.06\n",
      "299   1651404  421566.86\n",
      "\n",
      "[300 rows x 2 columns]\n"
     ]
    }
   ],
   "source": [
    "# Use this cell to write your code for Task 5\n",
    "from sklearn.ensemble import RandomForestRegressor\n",
    "\n",
    "# Comparison model: Random Forest Regressor\n",
    "rf = RandomForestRegressor(n_estimators=100, random_state=42)\n",
    "\n",
    "# Preparing training and test data (same as baseline)\n",
    "X_train = train_data.drop(columns=['sale_price', 'house_id', 'sale_date'], axis=1)\n",
    "X_train = pd.get_dummies(X_train)\n",
    "y_train = train_data['sale_price']\n",
    "\n",
    "X_test = val_data.drop(columns=['house_id', 'sale_date'], axis=1)\n",
    "X_test = pd.get_dummies(X_test)\n",
    "\n",
    "# Fit the comparison model\n",
    "rf.fit(X_train, y_train)\n",
    "\n",
    "# Predict on the validation data\n",
    "y_pred_compare = rf.predict(X_test)\n",
    "\n",
    "# Create the comparison result DataFrame\n",
    "compare_result = pd.DataFrame({'house_id': hid, 'price': y_pred_compare})\n",
    "\n",
    "print(compare_result)"
   ]
  },
  {
   "cell_type": "code",
   "execution_count": 114,
   "id": "43f98fa7-dca2-40e1-9632-cd4704ccb8f7",
   "metadata": {},
   "outputs": [],
   "source": [
    "rmse = MSE(base_model_result['price'], compare_result['price']) ** (0.5)"
   ]
  },
  {
   "cell_type": "code",
   "execution_count": 115,
   "id": "a131c3b1-081c-470a-aa93-0a3d7922e5cb",
   "metadata": {},
   "outputs": [
    {
     "data": {
      "text/plain": [
       "18135.39551803661"
      ]
     },
     "execution_count": 115,
     "metadata": {},
     "output_type": "execute_result"
    }
   ],
   "source": [
    "rmse"
   ]
  },
  {
   "cell_type": "code",
   "execution_count": null,
   "id": "37c48ecc-dc2f-4a1a-aafe-b54cddd6ba7a",
   "metadata": {},
   "outputs": [],
   "source": []
  }
 ],
 "metadata": {
  "editor": "DataCamp Workspace",
  "kernelspec": {
   "display_name": "Python 3 (ipykernel)",
   "language": "python",
   "name": "python3"
  },
  "language_info": {
   "codemirror_mode": {
    "name": "ipython",
    "version": 3
   },
   "file_extension": ".py",
   "mimetype": "text/x-python",
   "name": "python",
   "nbconvert_exporter": "python",
   "pygments_lexer": "ipython3",
   "version": "3.11.7"
  }
 },
 "nbformat": 4,
 "nbformat_minor": 5
}
